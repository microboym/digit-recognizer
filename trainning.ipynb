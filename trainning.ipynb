{
 "metadata": {
  "language_info": {
   "codemirror_mode": {
    "name": "ipython",
    "version": 3
   },
   "file_extension": ".py",
   "mimetype": "text/x-python",
   "name": "python",
   "nbconvert_exporter": "python",
   "pygments_lexer": "ipython3",
   "version": "3.8.7-final"
  },
  "orig_nbformat": 2,
  "kernelspec": {
   "name": "python387jvsc74a57bd07e85ec9bf098c5427e45e2f632dcd4eeff803b007e1abd287d600879388709c1",
   "display_name": "Python 3.8.7 64-bit"
  },
  "metadata": {
   "interpreter": {
    "hash": "7e85ec9bf098c5427e45e2f632dcd4eeff803b007e1abd287d600879388709c1"
   }
  }
 },
 "nbformat": 4,
 "nbformat_minor": 2,
 "cells": [
  {
   "source": [
    "Setup."
   ],
   "cell_type": "markdown",
   "metadata": {}
  },
  {
   "source": [
    "import numpy as np\n",
    "from tensorflow import keras\n",
    "from tensorflow.keras import layers"
   ],
   "cell_type": "code",
   "metadata": {},
   "execution_count": 1,
   "outputs": []
  },
  {
   "source": [
    "Load the mnist database."
   ],
   "cell_type": "markdown",
   "metadata": {}
  },
  {
   "source": [
    "# Model / data parameters\n",
    "num_classes = 10\n",
    "input_shape = (28, 28, 1)\n",
    "\n",
    "# the data, split between train and test sets\n",
    "(x_train, y_train), (x_test, y_test) = keras.datasets.mnist.load_data()\n",
    "\n",
    "# Scale images to the [0, 1] range\n",
    "x_train = x_train.astype(\"float32\") / 255\n",
    "x_test = x_test.astype(\"float32\") / 255\n",
    "# Make sure images have shape (28, 28, 1)\n",
    "x_train = np.expand_dims(x_train, -1)\n",
    "x_test = np.expand_dims(x_test, -1)\n",
    "print(\"x_train shape:\", x_train.shape)\n",
    "print(x_train.shape[0], \"train samples\")\n",
    "print(x_test.shape[0], \"test samples\")\n",
    "\n",
    "\n",
    "# convert class vectors to binary class matrices\n",
    "y_train = keras.utils.to_categorical(y_train, num_classes)\n",
    "y_test = keras.utils.to_categorical(y_test, num_classes)\n",
    "\n"
   ],
   "cell_type": "code",
   "metadata": {},
   "execution_count": 2,
   "outputs": [
    {
     "output_type": "stream",
     "name": "stdout",
     "text": [
      "x_train shape: (60000, 28, 28, 1)\n60000 train samples\n10000 test samples\n"
     ]
    }
   ]
  },
  {
   "source": [
    "Build the model."
   ],
   "cell_type": "markdown",
   "metadata": {}
  },
  {
   "cell_type": "code",
   "execution_count": 5,
   "metadata": {},
   "outputs": [
    {
     "output_type": "stream",
     "name": "stdout",
     "text": [
      "Model: \"sequential\"\n_________________________________________________________________\nLayer (type)                 Output Shape              Param #   \n=================================================================\nconv2d_6 (Conv2D)            (None, 26, 26, 32)        320       \n_________________________________________________________________\nmax_pooling2d_4 (MaxPooling2 (None, 13, 13, 32)        0         \n_________________________________________________________________\nconv2d_7 (Conv2D)            (None, 11, 11, 64)        18496     \n_________________________________________________________________\nmax_pooling2d_5 (MaxPooling2 (None, 5, 5, 64)          0         \n_________________________________________________________________\nconv2d_8 (Conv2D)            (None, 3, 3, 64)          36928     \n_________________________________________________________________\nflatten_2 (Flatten)          (None, 576)               0         \n_________________________________________________________________\ndropout_2 (Dropout)          (None, 576)               0         \n_________________________________________________________________\ndense (Dense)                (None, 64)                36928     \n_________________________________________________________________\ndense_1 (Dense)              (None, 10)                650       \n=================================================================\nTotal params: 93,322\nTrainable params: 93,322\nNon-trainable params: 0\n_________________________________________________________________\n"
     ]
    }
   ],
   "source": [
    "# Build the model\n",
    "model = keras.Sequential(\n",
    "    [\n",
    "        keras.Input(shape=input_shape),\n",
    "        layers.Conv2D(32, kernel_size=(3, 3), activation=\"relu\"),\n",
    "        layers.MaxPooling2D(pool_size=(2, 2)),\n",
    "        layers.Conv2D(64, kernel_size=(3, 3), activation=\"relu\"),\n",
    "        layers.MaxPooling2D(pool_size=(2, 2)),\n",
    "        layers.Conv2D(64, kernel_size=(3, 3), activation=\"relu\"),\n",
    "        layers.Flatten(),\n",
    "        layers.Dropout(0.5),\n",
    "        layers.Dense(64, activation='relu'),\n",
    "        layers.Dense(num_classes, activation=\"softmax\"),\n",
    "    ]\n",
    ")\n",
    "\n",
    "model.summary()"
   ]
  },
  {
   "source": [
    "Train the model."
   ],
   "cell_type": "markdown",
   "metadata": {}
  },
  {
   "cell_type": "code",
   "execution_count": 8,
   "metadata": {},
   "outputs": [
    {
     "output_type": "stream",
     "name": "stdout",
     "text": [
      "Epoch 1/15\n",
      "422/422 [==============================] - 25s 58ms/step - loss: 0.0693 - accuracy: 0.9782 - val_loss: 0.0326 - val_accuracy: 0.9902\n",
      "Epoch 2/15\n",
      "422/422 [==============================] - 25s 60ms/step - loss: 0.0544 - accuracy: 0.9829 - val_loss: 0.0318 - val_accuracy: 0.9905\n",
      "Epoch 3/15\n",
      "422/422 [==============================] - 26s 61ms/step - loss: 0.0443 - accuracy: 0.9856 - val_loss: 0.0311 - val_accuracy: 0.9907\n",
      "Epoch 4/15\n",
      "422/422 [==============================] - 28s 66ms/step - loss: 0.0409 - accuracy: 0.9874 - val_loss: 0.0299 - val_accuracy: 0.9912\n",
      "Epoch 5/15\n",
      "422/422 [==============================] - 27s 64ms/step - loss: 0.0356 - accuracy: 0.9882 - val_loss: 0.0271 - val_accuracy: 0.9925\n",
      "Epoch 6/15\n",
      "422/422 [==============================] - 26s 61ms/step - loss: 0.0304 - accuracy: 0.9902 - val_loss: 0.0302 - val_accuracy: 0.9915\n",
      "Epoch 7/15\n",
      "422/422 [==============================] - 28s 65ms/step - loss: 0.0294 - accuracy: 0.9904 - val_loss: 0.0284 - val_accuracy: 0.9918\n",
      "Epoch 8/15\n",
      "422/422 [==============================] - 27s 63ms/step - loss: 0.0245 - accuracy: 0.9921 - val_loss: 0.0280 - val_accuracy: 0.9938\n",
      "Epoch 9/15\n",
      "422/422 [==============================] - 28s 65ms/step - loss: 0.0234 - accuracy: 0.9923 - val_loss: 0.0307 - val_accuracy: 0.9915\n",
      "Epoch 10/15\n",
      "422/422 [==============================] - 26s 62ms/step - loss: 0.0223 - accuracy: 0.9926 - val_loss: 0.0307 - val_accuracy: 0.9917\n",
      "Epoch 11/15\n",
      "422/422 [==============================] - 29s 68ms/step - loss: 0.0217 - accuracy: 0.9929 - val_loss: 0.0298 - val_accuracy: 0.9932\n",
      "Epoch 12/15\n",
      "422/422 [==============================] - 26s 61ms/step - loss: 0.0196 - accuracy: 0.9937 - val_loss: 0.0316 - val_accuracy: 0.9922\n",
      "Epoch 13/15\n",
      "422/422 [==============================] - 28s 67ms/step - loss: 0.0172 - accuracy: 0.9942 - val_loss: 0.0288 - val_accuracy: 0.9940\n",
      "Epoch 14/15\n",
      "422/422 [==============================] - 28s 67ms/step - loss: 0.0172 - accuracy: 0.9943 - val_loss: 0.0304 - val_accuracy: 0.9917\n",
      "Epoch 15/15\n",
      "422/422 [==============================] - 26s 61ms/step - loss: 0.0164 - accuracy: 0.9946 - val_loss: 0.0325 - val_accuracy: 0.9923\n"
     ]
    },
    {
     "output_type": "execute_result",
     "data": {
      "text/plain": [
       "<tensorflow.python.keras.callbacks.History at 0x149d53dc0>"
      ]
     },
     "metadata": {},
     "execution_count": 8
    }
   ],
   "source": [
    "batch_size = 128\n",
    "epochs = 15\n",
    "\n",
    "model.compile(loss=\"categorical_crossentropy\", optimizer=\"adam\", metrics=[\"accuracy\"])\n",
    "\n",
    "model.fit(x_train, y_train, batch_size=batch_size, epochs=epochs, validation_split=0.1)"
   ]
  },
  {
   "cell_type": "code",
   "execution_count": 10,
   "metadata": {},
   "outputs": [
    {
     "output_type": "stream",
     "name": "stdout",
     "text": [
      "313/313 [==============================] - 1s 4ms/step - loss: 0.0263 - accuracy: 0.9922\n",
      "Test loss: 0.026276785880327225\n",
      "Test accuracy: 0.9922000169754028\n"
     ]
    }
   ],
   "source": [
    "score = model.evaluate(x_test, y_test, verbose=1)\n",
    "print(\"Test loss:\", score[0])\n",
    "print(\"Test accuracy:\", score[1])"
   ]
  },
  {
   "cell_type": "code",
   "execution_count": 13,
   "metadata": {},
   "outputs": [],
   "source": [
    "model.save(\"model.h5\")"
   ]
  },
  {
   "cell_type": "code",
   "execution_count": null,
   "metadata": {},
   "outputs": [],
   "source": []
  }
 ]
}